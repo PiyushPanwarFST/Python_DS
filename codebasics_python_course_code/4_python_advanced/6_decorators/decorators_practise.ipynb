{
 "cells": [
  {
   "cell_type": "code",
   "execution_count": 1,
   "id": "e377ff0b-9ce7-4016-b3fd-13574a756964",
   "metadata": {},
   "outputs": [],
   "source": [
    "import time\n",
    "\n",
    "def get_square(numbers):\n",
    "    start = time.time()\n",
    "    result = []\n",
    "    for n in numbers:\n",
    "        result.append(n*n)\n",
    "    end = time.time()\n",
    "    print(f\"get_square took {(end - start)*1000} mil seconds\")\n",
    "    return result"
   ]
  },
  {
   "cell_type": "code",
   "execution_count": 21,
   "id": "75f0e243-b413-421c-8d59-6690d71cfd0f",
   "metadata": {},
   "outputs": [
    {
     "name": "stdout",
     "output_type": "stream",
     "text": [
      "Function get_square took 11.39 milliseconds\n"
     ]
    }
   ],
   "source": [
    "my_list = [1,2,3,4,5]\n",
    "_ = get_square(range(100000))"
   ]
  },
  {
   "cell_type": "code",
   "execution_count": 3,
   "id": "174188da-79fa-4b5c-85dc-dc97acdf5e6a",
   "metadata": {},
   "outputs": [],
   "source": [
    "import time\n",
    "\n",
    "def get_cube(numbers):\n",
    "    start = time.time()\n",
    "    result = []\n",
    "    for n in numbers:\n",
    "        result.append(n*n*n)\n",
    "    end = time.time()\n",
    "    print(f\"get_cube took {(end - start)*1000} mil seconds\")\n",
    "    return result"
   ]
  },
  {
   "cell_type": "code",
   "execution_count": 4,
   "id": "27716475-aa47-45bf-bbcb-e2cd60c7a9a2",
   "metadata": {},
   "outputs": [
    {
     "name": "stdout",
     "output_type": "stream",
     "text": [
      "get_cube took 0.0021457672119140625 mil seconds\n"
     ]
    },
    {
     "data": {
      "text/plain": [
       "[1, 8, 27, 64, 125]"
      ]
     },
     "execution_count": 4,
     "metadata": {},
     "output_type": "execute_result"
    }
   ],
   "source": [
    "my_list = [1,2,3,4,5]\n",
    "get_cube(my_list)"
   ]
  },
  {
   "cell_type": "code",
   "execution_count": 16,
   "id": "e99e0a35-3e57-466d-9b93-efa64f987868",
   "metadata": {},
   "outputs": [],
   "source": [
    "def timer(func):\n",
    "    def wrapper(*args, **kwargs):\n",
    "        start = time.time()\n",
    "        result = func(*args, **kwargs)\n",
    "        end = time.time()\n",
    "        print(f\"Function {func.__name__} took {(end - start) * 1000:.2f} milliseconds\")\n",
    "        return result\n",
    "    return wrapper"
   ]
  },
  {
   "cell_type": "code",
   "execution_count": 17,
   "id": "5d693ba3-be0b-4eba-a451-e8fe810723d3",
   "metadata": {},
   "outputs": [],
   "source": [
    "@timer\n",
    "\n",
    "def get_square(numbers):\n",
    "    result = []\n",
    "    for n in numbers:\n",
    "        result.append(n*n)\n",
    "    return result\n"
   ]
  },
  {
   "cell_type": "code",
   "execution_count": 19,
   "id": "7353009a-070c-4da1-8ab6-c2878e97903a",
   "metadata": {},
   "outputs": [
    {
     "name": "stdout",
     "output_type": "stream",
     "text": [
      "Function get_square took 12.71 milliseconds\n"
     ]
    }
   ],
   "source": [
    "_ = get_square(range(100000))"
   ]
  },
  {
   "cell_type": "code",
   "execution_count": null,
   "id": "74832e61-bc49-46b0-8f6d-28055767af21",
   "metadata": {},
   "outputs": [],
   "source": []
  }
 ],
 "metadata": {
  "kernelspec": {
   "display_name": "Python 3 (ipykernel)",
   "language": "python",
   "name": "python3"
  },
  "language_info": {
   "codemirror_mode": {
    "name": "ipython",
    "version": 3
   },
   "file_extension": ".py",
   "mimetype": "text/x-python",
   "name": "python",
   "nbconvert_exporter": "python",
   "pygments_lexer": "ipython3",
   "version": "3.12.2"
  }
 },
 "nbformat": 4,
 "nbformat_minor": 5
}
