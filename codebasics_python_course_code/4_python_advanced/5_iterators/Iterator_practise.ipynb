{
 "cells": [
  {
   "cell_type": "code",
   "execution_count": 1,
   "id": "53d8650d-78b7-476b-a964-b9c9e9b8552a",
   "metadata": {},
   "outputs": [],
   "source": [
    "prices = []\n",
    "\n",
    "with open(\"pricing.txt\", \"r\") as f:\n",
    "    for line in f:\n",
    "        ticker, country, price, date = line.split(\"|\")\n",
    "        prices.append({\n",
    "            'ticker': ticker,\n",
    "            'country': country,\n",
    "            'price': float(price),\n",
    "            'date': date.strip()\n",
    "        })"
   ]
  },
  {
   "cell_type": "code",
   "execution_count": 2,
   "id": "0f89c6cf-906f-41c7-8732-be2e5ed19ae2",
   "metadata": {},
   "outputs": [
    {
     "data": {
      "text/plain": [
       "[{'ticker': 'MSFT', 'country': 'BRA', 'price': 381.26, 'date': '2023-10-27'},\n",
       " {'ticker': 'CSCO', 'country': 'USA', 'price': 187.64, 'date': '2023-02-12'},\n",
       " {'ticker': 'INTC', 'country': 'CAN', 'price': 173.25, 'date': '2023-04-11'}]"
      ]
     },
     "execution_count": 2,
     "metadata": {},
     "output_type": "execute_result"
    }
   ],
   "source": [
    "prices[:3]"
   ]
  },
  {
   "cell_type": "code",
   "execution_count": 3,
   "id": "86aec579-e24b-494c-b63a-53d3ad5b55e4",
   "metadata": {},
   "outputs": [
    {
     "data": {
      "text/plain": [
       "['_CHUNK_SIZE',\n",
       " '__class__',\n",
       " '__del__',\n",
       " '__delattr__',\n",
       " '__dict__',\n",
       " '__dir__',\n",
       " '__doc__',\n",
       " '__enter__',\n",
       " '__eq__',\n",
       " '__exit__',\n",
       " '__format__',\n",
       " '__ge__',\n",
       " '__getattribute__',\n",
       " '__getstate__',\n",
       " '__gt__',\n",
       " '__hash__',\n",
       " '__init__',\n",
       " '__init_subclass__',\n",
       " '__iter__',\n",
       " '__le__',\n",
       " '__lt__',\n",
       " '__module__',\n",
       " '__ne__',\n",
       " '__new__',\n",
       " '__next__',\n",
       " '__reduce__',\n",
       " '__reduce_ex__',\n",
       " '__repr__',\n",
       " '__setattr__',\n",
       " '__sizeof__',\n",
       " '__str__',\n",
       " '__subclasshook__',\n",
       " '_checkClosed',\n",
       " '_checkReadable',\n",
       " '_checkSeekable',\n",
       " '_checkWritable',\n",
       " '_finalizing',\n",
       " 'buffer',\n",
       " 'close',\n",
       " 'closed',\n",
       " 'detach',\n",
       " 'encoding',\n",
       " 'errors',\n",
       " 'fileno',\n",
       " 'flush',\n",
       " 'isatty',\n",
       " 'line_buffering',\n",
       " 'mode',\n",
       " 'name',\n",
       " 'newlines',\n",
       " 'read',\n",
       " 'readable',\n",
       " 'readline',\n",
       " 'readlines',\n",
       " 'reconfigure',\n",
       " 'seek',\n",
       " 'seekable',\n",
       " 'tell',\n",
       " 'truncate',\n",
       " 'writable',\n",
       " 'write',\n",
       " 'write_through',\n",
       " 'writelines']"
      ]
     },
     "execution_count": 3,
     "metadata": {},
     "output_type": "execute_result"
    }
   ],
   "source": [
    "dir(f)"
   ]
  },
  {
   "cell_type": "code",
   "execution_count": 4,
   "id": "c9cb6480-8e51-48c5-b9be-4b7b98bf2119",
   "metadata": {},
   "outputs": [
    {
     "data": {
      "text/plain": [
       "<_io.TextIOWrapper name='pricing.txt' mode='r' encoding='UTF-8'>"
      ]
     },
     "execution_count": 4,
     "metadata": {},
     "output_type": "execute_result"
    }
   ],
   "source": [
    "f = open(\"pricing.txt\", \"r\")\n",
    "iterator = iter(f)\n",
    "iterator"
   ]
  },
  {
   "cell_type": "code",
   "execution_count": 5,
   "id": "fe5b7b5b-307c-4939-908c-c075a29d7575",
   "metadata": {},
   "outputs": [
    {
     "data": {
      "text/plain": [
       "'MSFT|BRA|381.26|2023-10-27\\n'"
      ]
     },
     "execution_count": 5,
     "metadata": {},
     "output_type": "execute_result"
    }
   ],
   "source": [
    "next(iterator)"
   ]
  },
  {
   "cell_type": "code",
   "execution_count": 6,
   "id": "46ea2f07-b4ce-407a-b966-1f0cbd3c9708",
   "metadata": {},
   "outputs": [
    {
     "data": {
      "text/plain": [
       "'CSCO|USA|187.64|2023-02-12\\n'"
      ]
     },
     "execution_count": 6,
     "metadata": {},
     "output_type": "execute_result"
    }
   ],
   "source": [
    "next(iterator)"
   ]
  },
  {
   "cell_type": "code",
   "execution_count": 7,
   "id": "657bd033-55e9-4d13-8dc5-80c2270c4bea",
   "metadata": {},
   "outputs": [
    {
     "data": {
      "text/plain": [
       "'INTC|CAN|173.25|2023-04-11\\n'"
      ]
     },
     "execution_count": 7,
     "metadata": {},
     "output_type": "execute_result"
    }
   ],
   "source": [
    "next(iterator)"
   ]
  },
  {
   "cell_type": "code",
   "execution_count": 8,
   "id": "4eb1b68a-38c9-4929-ac11-18df3083ad78",
   "metadata": {},
   "outputs": [
    {
     "data": {
      "text/plain": [
       "'INTC|BRA|172.87|2023-11-16\\n'"
      ]
     },
     "execution_count": 8,
     "metadata": {},
     "output_type": "execute_result"
    }
   ],
   "source": [
    "next(iterator)"
   ]
  },
  {
   "cell_type": "code",
   "execution_count": 9,
   "id": "23524b80-17fb-4604-9963-2abd37155029",
   "metadata": {},
   "outputs": [
    {
     "data": {
      "text/plain": [
       "'NVDA|GBR|374.54|2023-05-14\\n'"
      ]
     },
     "execution_count": 9,
     "metadata": {},
     "output_type": "execute_result"
    }
   ],
   "source": [
    "next(iterator)"
   ]
  },
  {
   "cell_type": "code",
   "execution_count": 10,
   "id": "6860fa14-a6b6-40fe-b96a-622e7ac7e8e9",
   "metadata": {},
   "outputs": [],
   "source": [
    "class RemoteControl:\n",
    "    def __init__(self):\n",
    "        self.channels = [\"Aaj_tak\", \"R_bharat\", \"NDTV\"]\n",
    "        self.index = -1\n",
    "\n",
    "    def __next__(self):\n",
    "        self.index += 1\n",
    "\n",
    "        if self.index == len(self.channels):\n",
    "            raise StopIteration\n",
    "\n",
    "        return self.channels[self.index]\n",
    "\n",
    "    def __iter__(self):\n",
    "        return self"
   ]
  },
  {
   "cell_type": "code",
   "execution_count": 11,
   "id": "b88eb744-4b40-45af-9596-0b599cee9d28",
   "metadata": {},
   "outputs": [
    {
     "name": "stdout",
     "output_type": "stream",
     "text": [
      "Aaj_tak\n",
      "R_bharat\n",
      "NDTV\n"
     ]
    }
   ],
   "source": [
    "rc = RemoteControl()\n",
    "for channel in rc:\n",
    "    print(channel)"
   ]
  },
  {
   "cell_type": "code",
   "execution_count": 17,
   "id": "8897c0a9-ee47-4f64-9d97-a6a8f6f42c4e",
   "metadata": {},
   "outputs": [
    {
     "data": {
      "text/plain": [
       "'Aaj_tak'"
      ]
     },
     "execution_count": 17,
     "metadata": {},
     "output_type": "execute_result"
    }
   ],
   "source": [
    "rc = RemoteControl()\n",
    "\n",
    "next(rc)"
   ]
  },
  {
   "cell_type": "code",
   "execution_count": 18,
   "id": "a2990d3a-b0ee-4ed4-95f6-6b640663dcc4",
   "metadata": {},
   "outputs": [
    {
     "data": {
      "text/plain": [
       "'R_bharat'"
      ]
     },
     "execution_count": 18,
     "metadata": {},
     "output_type": "execute_result"
    }
   ],
   "source": [
    "next(rc)"
   ]
  },
  {
   "cell_type": "code",
   "execution_count": 19,
   "id": "cdf09522-466a-4894-bda9-b02b4b758daf",
   "metadata": {},
   "outputs": [
    {
     "data": {
      "text/plain": [
       "'NDTV'"
      ]
     },
     "execution_count": 19,
     "metadata": {},
     "output_type": "execute_result"
    }
   ],
   "source": [
    "next(rc)"
   ]
  },
  {
   "cell_type": "code",
   "execution_count": 20,
   "id": "cae71bf9-d332-4a66-9ca5-8dd54e9c3e7e",
   "metadata": {},
   "outputs": [
    {
     "ename": "StopIteration",
     "evalue": "",
     "output_type": "error",
     "traceback": [
      "\u001b[0;31m---------------------------------------------------------------------------\u001b[0m",
      "\u001b[0;31mStopIteration\u001b[0m                             Traceback (most recent call last)",
      "Cell \u001b[0;32mIn[20], line 1\u001b[0m\n\u001b[0;32m----> 1\u001b[0m \u001b[38;5;28mnext\u001b[39m(rc)\n",
      "Cell \u001b[0;32mIn[10], line 10\u001b[0m, in \u001b[0;36mRemoteControl.__next__\u001b[0;34m(self)\u001b[0m\n\u001b[1;32m      7\u001b[0m \u001b[38;5;28mself\u001b[39m\u001b[38;5;241m.\u001b[39mindex \u001b[38;5;241m+\u001b[39m\u001b[38;5;241m=\u001b[39m \u001b[38;5;241m1\u001b[39m\n\u001b[1;32m      9\u001b[0m \u001b[38;5;28;01mif\u001b[39;00m \u001b[38;5;28mself\u001b[39m\u001b[38;5;241m.\u001b[39mindex \u001b[38;5;241m==\u001b[39m \u001b[38;5;28mlen\u001b[39m(\u001b[38;5;28mself\u001b[39m\u001b[38;5;241m.\u001b[39mchannels):\n\u001b[0;32m---> 10\u001b[0m     \u001b[38;5;28;01mraise\u001b[39;00m \u001b[38;5;167;01mStopIteration\u001b[39;00m\n\u001b[1;32m     12\u001b[0m \u001b[38;5;28;01mreturn\u001b[39;00m \u001b[38;5;28mself\u001b[39m\u001b[38;5;241m.\u001b[39mchannels[\u001b[38;5;28mself\u001b[39m\u001b[38;5;241m.\u001b[39mindex]\n",
      "\u001b[0;31mStopIteration\u001b[0m: "
     ]
    }
   ],
   "source": [
    "next(rc)"
   ]
  },
  {
   "cell_type": "code",
   "execution_count": 21,
   "id": "f90d8b24-8238-4279-96ed-29ff409bb64f",
   "metadata": {},
   "outputs": [],
   "source": [
    "# ok now using genrator simple way of doing this:"
   ]
  },
  {
   "cell_type": "code",
   "execution_count": 22,
   "id": "f29e1f3a-1138-4d88-be92-81c48f9bec8c",
   "metadata": {},
   "outputs": [],
   "source": [
    "def remote_control():\n",
    "    yield \"NDTV\"\n",
    "    yield \"Aaj_tk\"\n",
    "    yield \"R_bharat\""
   ]
  },
  {
   "cell_type": "code",
   "execution_count": 24,
   "id": "166c23c0-218f-490e-8fab-a884ebb71e0c",
   "metadata": {},
   "outputs": [
    {
     "data": {
      "text/plain": [
       "generator"
      ]
     },
     "execution_count": 24,
     "metadata": {},
     "output_type": "execute_result"
    }
   ],
   "source": [
    "rc = remote_control()\n",
    "type(rc)"
   ]
  },
  {
   "cell_type": "code",
   "execution_count": 25,
   "id": "7e9a4ca5-280d-498f-9f07-89efe4f2a52a",
   "metadata": {},
   "outputs": [
    {
     "name": "stdout",
     "output_type": "stream",
     "text": [
      "NDTV\n",
      "Aaj_tk\n",
      "R_bharat\n"
     ]
    }
   ],
   "source": [
    "for channel in rc:\n",
    "    print(channel)"
   ]
  },
  {
   "cell_type": "code",
   "execution_count": 26,
   "id": "c4c615a9-dedd-4e12-b873-a66cdfe04edd",
   "metadata": {},
   "outputs": [
    {
     "data": {
      "text/plain": [
       "'NDTV'"
      ]
     },
     "execution_count": 26,
     "metadata": {},
     "output_type": "execute_result"
    }
   ],
   "source": [
    "rc = remote_control()\n",
    "next(rc)"
   ]
  },
  {
   "cell_type": "code",
   "execution_count": 27,
   "id": "908f2b92-5c78-4931-a5f8-49958c781dbf",
   "metadata": {},
   "outputs": [
    {
     "data": {
      "text/plain": [
       "'Aaj_tk'"
      ]
     },
     "execution_count": 27,
     "metadata": {},
     "output_type": "execute_result"
    }
   ],
   "source": [
    "next(rc)"
   ]
  },
  {
   "cell_type": "code",
   "execution_count": 28,
   "id": "4d03dc75-b393-4602-80c1-c0565c823219",
   "metadata": {},
   "outputs": [],
   "source": [
    "def get_company_data():\n",
    "    data = []\n",
    "    for i in range(3):\n",
    "        with open(f\"stock_{i+1}.txt\", \"r\") as f:\n",
    "            content = f.read()\n",
    "            data.append(content)\n",
    "\n",
    "    return data"
   ]
  },
  {
   "cell_type": "code",
   "execution_count": 29,
   "id": "ad046469-6cfc-4a7e-8f3e-c154739509cb",
   "metadata": {},
   "outputs": [
    {
     "data": {
      "text/plain": [
       "['{\\n    \"ticker\": \"AAPL\",\\n    \"price\": 227.67,\\n    \"date\": \"2024-08-28\",\\n    \"pe\": 23.4,\\n    \"market_cap\": 2410000000000.0,\\n    \"dividend_yield\": 0.6,\\n    \"price_to_book\": 31.8,\\n    \"dps\": 0.92,\\n    \"ebitda\": 94680000000.0,\\n    \"price_to_sales\": 7.3,\\n    \"earnings_per_share\": 9.73,\\n    \"revenue\": 387530000000.0,\\n    \"gross_margin\": 43.3,\\n    \"net_profit_margin\": 25.9,\\n    \"debt_to_equity\": 1.8,\\n    \"cash_flow\": 104300000000.0,\\n    \"operating_margin\": 30.2\\n}',\n",
       " '{\\n    \"ticker\": \"RIL\",\\n    \"price\": 2589.75,\\n    \"date\": \"2024-08-28\",\\n    \"pe\": 26.7,\\n    \"market_cap\": 1950000000000.0,\\n    \"dividend_yield\": 0.8,\\n    \"price_to_book\": 2.9,\\n    \"dps\": 15.0,\\n    \"ebitda\": 1100000000000.0,\\n    \"price_to_sales\": 1.5,\\n    \"earnings_per_share\": 97.5,\\n    \"revenue\": 6800000000000.0,\\n    \"gross_margin\": 20.4,\\n    \"net_profit_margin\": 6.3,\\n    \"debt_to_equity\": 0.4,\\n    \"cash_flow\": 820500000000.0\\n}\\n',\n",
       " '{\\n    \"ticker\": \"NVDA\",\\n    \"price\": 492.21,\\n    \"date\": \"2024-08-28\",\\n    \"pe\": 45.3,\\n    \"market_cap\": 1230000000000.0,\\n    \"dividend_yield\": 0.07,\\n    \"price_to_book\": 23.5,\\n    \"dps\": 0.16,\\n    \"ebitda\": 16400000000.0,\\n    \"price_to_sales\": 17.6,\\n    \"earnings_per_share\": 10.85,\\n    \"revenue\": 26900000000.0,\\n    \"gross_margin\": 64.1,\\n    \"net_profit_margin\": 36.2,\\n    \"debt_to_equity\": 0.5,\\n    \"cash_flow\": 9100000000.0,\\n    \"operating_margin\": 40.8\\n}\\n']"
      ]
     },
     "execution_count": 29,
     "metadata": {},
     "output_type": "execute_result"
    }
   ],
   "source": [
    "get_company_data()"
   ]
  },
  {
   "cell_type": "code",
   "execution_count": 30,
   "id": "4a9274a2-22c0-415b-a8f0-0fda9ac482b0",
   "metadata": {},
   "outputs": [],
   "source": [
    "# doing same thing with genrator:"
   ]
  },
  {
   "cell_type": "code",
   "execution_count": 31,
   "id": "0f8aff45-7176-4e23-a72c-188dca0abcf9",
   "metadata": {},
   "outputs": [],
   "source": [
    "def get_company_data():\n",
    "    for i in range(3):\n",
    "        with open(f\"stock_{i+1}.txt\", \"r\") as f:\n",
    "            content = f.read()\n",
    "            yield content"
   ]
  },
  {
   "cell_type": "code",
   "execution_count": 33,
   "id": "1df5e58c-55e4-40da-ac86-a654e731139d",
   "metadata": {},
   "outputs": [
    {
     "name": "stdout",
     "output_type": "stream",
     "text": [
      "{\n",
      "    \"ticker\": \"AAPL\",\n",
      "    \"price\": 227.67,\n",
      "    \"date\": \"2024-08-28\",\n",
      "    \"pe\": 23.4,\n",
      "    \"market_cap\": 2410000000000.0,\n",
      "    \"dividend_yield\": 0.6,\n",
      "    \"price_to_book\": 31.8,\n",
      "    \"dps\": 0.92,\n",
      "    \"ebitda\": 94680000000.0,\n",
      "    \"price_to_sales\": 7.3,\n",
      "    \"earnings_per_share\": 9.73,\n",
      "    \"revenue\": 387530000000.0,\n",
      "    \"gross_margin\": 43.3,\n",
      "    \"net_profit_margin\": 25.9,\n",
      "    \"debt_to_equity\": 1.8,\n",
      "    \"cash_flow\": 104300000000.0,\n",
      "    \"operating_margin\": 30.2\n",
      "}\n",
      "{\n",
      "    \"ticker\": \"RIL\",\n",
      "    \"price\": 2589.75,\n",
      "    \"date\": \"2024-08-28\",\n",
      "    \"pe\": 26.7,\n",
      "    \"market_cap\": 1950000000000.0,\n",
      "    \"dividend_yield\": 0.8,\n",
      "    \"price_to_book\": 2.9,\n",
      "    \"dps\": 15.0,\n",
      "    \"ebitda\": 1100000000000.0,\n",
      "    \"price_to_sales\": 1.5,\n",
      "    \"earnings_per_share\": 97.5,\n",
      "    \"revenue\": 6800000000000.0,\n",
      "    \"gross_margin\": 20.4,\n",
      "    \"net_profit_margin\": 6.3,\n",
      "    \"debt_to_equity\": 0.4,\n",
      "    \"cash_flow\": 820500000000.0\n",
      "}\n",
      "\n",
      "{\n",
      "    \"ticker\": \"NVDA\",\n",
      "    \"price\": 492.21,\n",
      "    \"date\": \"2024-08-28\",\n",
      "    \"pe\": 45.3,\n",
      "    \"market_cap\": 1230000000000.0,\n",
      "    \"dividend_yield\": 0.07,\n",
      "    \"price_to_book\": 23.5,\n",
      "    \"dps\": 0.16,\n",
      "    \"ebitda\": 16400000000.0,\n",
      "    \"price_to_sales\": 17.6,\n",
      "    \"earnings_per_share\": 10.85,\n",
      "    \"revenue\": 26900000000.0,\n",
      "    \"gross_margin\": 64.1,\n",
      "    \"net_profit_margin\": 36.2,\n",
      "    \"debt_to_equity\": 0.5,\n",
      "    \"cash_flow\": 9100000000.0,\n",
      "    \"operating_margin\": 40.8\n",
      "}\n",
      "\n"
     ]
    }
   ],
   "source": [
    "for company_data in get_company_data():\n",
    "    print(company_data)"
   ]
  },
  {
   "cell_type": "code",
   "execution_count": 36,
   "id": "458e9406-40e5-4ea7-93e0-e5b9469f6656",
   "metadata": {},
   "outputs": [],
   "source": [
    "def fibonacci():\n",
    "    num = 0\n",
    "    next = 1\n",
    "\n",
    "    while True:\n",
    "        yield num\n",
    "        num, next = next, num + next\n",
    "             "
   ]
  },
  {
   "cell_type": "code",
   "execution_count": 37,
   "id": "1f34749f-e1ff-4e7d-b63b-044392d9602f",
   "metadata": {},
   "outputs": [
    {
     "name": "stdout",
     "output_type": "stream",
     "text": [
      "0\n",
      "1\n",
      "1\n",
      "2\n",
      "3\n",
      "5\n",
      "8\n",
      "13\n",
      "21\n",
      "34\n"
     ]
    }
   ],
   "source": [
    "fib_genrator = fibonacci()\n",
    "\n",
    "for _ in range(10):\n",
    "    print(next(fib_genrator))\n",
    "    "
   ]
  },
  {
   "cell_type": "code",
   "execution_count": null,
   "id": "9b6ae85d-c17e-4927-9d84-692316c1c2fe",
   "metadata": {},
   "outputs": [],
   "source": []
  }
 ],
 "metadata": {
  "kernelspec": {
   "display_name": "Python 3 (ipykernel)",
   "language": "python",
   "name": "python3"
  },
  "language_info": {
   "codemirror_mode": {
    "name": "ipython",
    "version": 3
   },
   "file_extension": ".py",
   "mimetype": "text/x-python",
   "name": "python",
   "nbconvert_exporter": "python",
   "pygments_lexer": "ipython3",
   "version": "3.12.2"
  }
 },
 "nbformat": 4,
 "nbformat_minor": 5
}
