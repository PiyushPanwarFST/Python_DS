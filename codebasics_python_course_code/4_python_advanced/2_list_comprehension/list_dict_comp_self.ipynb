{
 "cells": [
  {
   "cell_type": "code",
   "execution_count": 1,
   "id": "8840f49a-94ad-4a67-bbe6-96c11796af7b",
   "metadata": {},
   "outputs": [
    {
     "name": "stdout",
     "output_type": "stream",
     "text": [
      "[1, 4, 9, 16, 25]\n"
     ]
    }
   ],
   "source": [
    "numb = [1,2,3,4,5]\n",
    "sqr_num = []\n",
    "\n",
    "for n in numb:\n",
    "    sqr_num.append(n*n)\n",
    "    \n",
    "print(sqr_num)"
   ]
  },
  {
   "cell_type": "code",
   "execution_count": 2,
   "id": "d74b8378-d791-4513-bf9a-ab9a89f97eaf",
   "metadata": {},
   "outputs": [
    {
     "data": {
      "text/plain": [
       "[1, 4, 9, 16, 25]"
      ]
     },
     "execution_count": 2,
     "metadata": {},
     "output_type": "execute_result"
    }
   ],
   "source": [
    "sqr_num = [n*n for n in numb]\n",
    "sqr_num"
   ]
  },
  {
   "cell_type": "code",
   "execution_count": 6,
   "id": "862504e0-dc81-4519-8b6f-6a74a5769a69",
   "metadata": {},
   "outputs": [
    {
     "name": "stdout",
     "output_type": "stream",
     "text": [
      "Time taken by for loop: 0.08580613136291504\n"
     ]
    }
   ],
   "source": [
    "# time difference:\n",
    "\n",
    "import time\n",
    "\n",
    "long_list = range(1000000)\n",
    "sqr_list = []\n",
    "\n",
    "start_time = time.time()\n",
    "\n",
    "for n in long_list:\n",
    "    sqr_list.append(n*n)\n",
    "\n",
    "end_time = time.time()\n",
    "\n",
    "print(\"Time taken by for loop:\", (end_time-start_time))"
   ]
  },
  {
   "cell_type": "code",
   "execution_count": 8,
   "id": "61dd99c7-3137-4340-b1e2-e109b77c4e0b",
   "metadata": {},
   "outputs": [
    {
     "name": "stdout",
     "output_type": "stream",
     "text": [
      "Time taken by for loop: 0.057192325592041016\n"
     ]
    }
   ],
   "source": [
    "start_time = time.time()\n",
    "sqr_list = [n*n for n in long_list]\n",
    "end_time = time.time()\n",
    "\n",
    "print(\"Time taken by for loop:\", (end_time-start_time))"
   ]
  },
  {
   "cell_type": "code",
   "execution_count": 9,
   "id": "f86e30f8-3e6b-49c1-acae-e5deaa02cf89",
   "metadata": {},
   "outputs": [],
   "source": [
    "# example:2"
   ]
  },
  {
   "cell_type": "code",
   "execution_count": 11,
   "id": "3865a9f5-d0fe-4a1f-a535-e6b471fb832c",
   "metadata": {},
   "outputs": [],
   "source": [
    "price = [100, 120, 80, 50]\n",
    "earning_pr_share = [9, 15, 40, 2]"
   ]
  },
  {
   "cell_type": "code",
   "execution_count": 12,
   "id": "b61dbbe0-885c-49f1-87c0-5824f38b8875",
   "metadata": {},
   "outputs": [
    {
     "data": {
      "text/plain": [
       "((100, 9), (120, 15), (80, 40), (50, 2))"
      ]
     },
     "execution_count": 12,
     "metadata": {},
     "output_type": "execute_result"
    }
   ],
   "source": [
    "tuple(zip(price, earning_pr_share))"
   ]
  },
  {
   "cell_type": "code",
   "execution_count": 13,
   "id": "f9845a2b-19af-436a-b71a-b730403bccb7",
   "metadata": {},
   "outputs": [
    {
     "data": {
      "text/plain": [
       "[11.11111111111111, 8.0, 2.0, 25.0]"
      ]
     },
     "execution_count": 13,
     "metadata": {},
     "output_type": "execute_result"
    }
   ],
   "source": [
    "pe = [p/e for p,e in zip(price, earning_pr_share)]\n",
    "pe"
   ]
  },
  {
   "cell_type": "code",
   "execution_count": 14,
   "id": "eb922fa1-e7c7-405f-b787-e53ed14dc313",
   "metadata": {},
   "outputs": [
    {
     "data": {
      "text/plain": [
       "[-1, 8.0, 2.0, 25.0]"
      ]
     },
     "execution_count": 14,
     "metadata": {},
     "output_type": "execute_result"
    }
   ],
   "source": [
    "price = [100, 120, 80, 50]\n",
    "earning_pr_share = [0, 15, 40, 2]\n",
    "\n",
    "pe = [p/e if e!=0 else -1 for p,e in zip(price, earning_pr_share)]\n",
    "pe"
   ]
  },
  {
   "cell_type": "code",
   "execution_count": 17,
   "id": "ea182d2b-b106-4683-ba05-4286064a7c17",
   "metadata": {},
   "outputs": [
    {
     "data": {
      "text/plain": [
       "[108.0, 99, 135.0, 80, 180.0]"
      ]
     },
     "execution_count": 17,
     "metadata": {},
     "output_type": "execute_result"
    }
   ],
   "source": [
    "# if the price is more then 100 then we will give discount of 10%\n",
    "\n",
    "prices = [120, 99, 150, 80, 200]\n",
    "\n",
    "new_prices = [x*0.9 if x>100 else x for x in prices]\n",
    "new_prices"
   ]
  },
  {
   "cell_type": "code",
   "execution_count": 18,
   "id": "78185bb0-ccfa-45d7-bc73-ec7c36da63cb",
   "metadata": {},
   "outputs": [],
   "source": [
    "# we can also do comprehension with dictionary:"
   ]
  },
  {
   "cell_type": "code",
   "execution_count": 20,
   "id": "fa3e5be7-7503-473e-86fb-6ae8e71fb092",
   "metadata": {},
   "outputs": [
    {
     "data": {
      "text/plain": [
       "{'Alice': 25, 'Bob': 30, 'Charlie': 35}"
      ]
     },
     "execution_count": 20,
     "metadata": {},
     "output_type": "execute_result"
    }
   ],
   "source": [
    "name = ['Alice', 'Bob', 'Charlie']\n",
    "age = [25, 30, 35]\n",
    "\n",
    "name_age_dict = {name[i]: age[i] for i in range(len(name))}\n",
    "name_age_dict"
   ]
  },
  {
   "cell_type": "code",
   "execution_count": null,
   "id": "9f0d41d4-df73-4e92-8082-f4b49fa2a844",
   "metadata": {},
   "outputs": [],
   "source": []
  },
  {
   "cell_type": "code",
   "execution_count": null,
   "id": "267e8edc-375c-4f25-8d6b-7553dc3e6416",
   "metadata": {},
   "outputs": [],
   "source": []
  },
  {
   "cell_type": "code",
   "execution_count": null,
   "id": "6342fb45-1821-4e29-ba65-db8ef70af27b",
   "metadata": {},
   "outputs": [],
   "source": []
  }
 ],
 "metadata": {
  "kernelspec": {
   "display_name": "Python 3 (ipykernel)",
   "language": "python",
   "name": "python3"
  },
  "language_info": {
   "codemirror_mode": {
    "name": "ipython",
    "version": 3
   },
   "file_extension": ".py",
   "mimetype": "text/x-python",
   "name": "python",
   "nbconvert_exporter": "python",
   "pygments_lexer": "ipython3",
   "version": "3.12.2"
  }
 },
 "nbformat": 4,
 "nbformat_minor": 5
}
