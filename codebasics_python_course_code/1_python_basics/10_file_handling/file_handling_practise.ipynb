{
 "cells": [
  {
   "cell_type": "code",
   "execution_count": 1,
   "id": "000a3916-e384-47e5-b63d-1aefcff230b3",
   "metadata": {},
   "outputs": [],
   "source": [
    "# 1: read file"
   ]
  },
  {
   "cell_type": "code",
   "execution_count": 6,
   "id": "b30ac1e6-1d97-40e3-a26b-e4c4a7b474a2",
   "metadata": {},
   "outputs": [
    {
     "name": "stdout",
     "output_type": "stream",
     "text": [
      "Teacher: Why are you late, raghu?\n",
      "\n",
      "Raghu: Because of the sign\n",
      "\n",
      "Teacher: What sign?\n",
      "\n",
      "Raghu: The one that says \"School Ahead, Go slow\"\n"
     ]
    }
   ],
   "source": [
    "f = open(\"funny.txt\", \"r\")\n",
    "\n",
    "for line in f:\n",
    "    print(line)\n",
    "f.close()"
   ]
  },
  {
   "cell_type": "code",
   "execution_count": 32,
   "id": "2e0385e5-2f82-4b6a-875b-2365837aa47c",
   "metadata": {},
   "outputs": [
    {
     "name": "stdout",
     "output_type": "stream",
     "text": [
      "Teacher: Why are you late, raghu?\n",
      "Raghu: Because of the sign\n",
      "Teacher: What sign?\n",
      "Raghu: The one that says \"School Ahead, Go slow\"\n"
     ]
    }
   ],
   "source": [
    "f = open(\"funny.txt\", \"r\")\n",
    "content = f.read()\n",
    "print(content)"
   ]
  },
  {
   "cell_type": "code",
   "execution_count": 34,
   "id": "ff9ca935-5ea9-44d0-bd5e-036cedb78d00",
   "metadata": {},
   "outputs": [
    {
     "name": "stdout",
     "output_type": "stream",
     "text": [
      "Teacher: Why are you late, raghu?\n",
      "Raghu: Because of the sign\n",
      "Teacher: What sign?\n",
      "Raghu: The one that says \"School Ahead, Go slow\"\n"
     ]
    }
   ],
   "source": [
    "with open(\"funny.txt\", \"r\") as f:\n",
    "    content = f.read()\n",
    "    print(content)"
   ]
  },
  {
   "cell_type": "code",
   "execution_count": 4,
   "id": "758f4194-688e-4edc-b1ce-5a5780d4fa0c",
   "metadata": {},
   "outputs": [
    {
     "name": "stdout",
     "output_type": "stream",
     "text": [
      "Teacher: Why are you late, raghu?\n",
      "\n",
      "Raghu: Because of the sign\n",
      "\n",
      "Teacher: What sign?\n",
      "\n",
      "Raghu: The one that says \"School Ahead, Go slow\"\n"
     ]
    }
   ],
   "source": [
    "with open(\"funny.txt\", \"r\") as f:\n",
    "    for line in f:\n",
    "        print(line)"
   ]
  },
  {
   "cell_type": "code",
   "execution_count": 7,
   "id": "a9fde555-49d6-49f8-b4bc-d8387b9ba667",
   "metadata": {},
   "outputs": [],
   "source": [
    "# now without reading lines one-by-one we read them in one shot"
   ]
  },
  {
   "cell_type": "code",
   "execution_count": 8,
   "id": "82f28934-ffba-4a08-b435-1b9102fac25c",
   "metadata": {},
   "outputs": [
    {
     "name": "stdout",
     "output_type": "stream",
     "text": [
      "['Teacher: Why are you late, raghu?\\n', 'Raghu: Because of the sign\\n', 'Teacher: What sign?\\n', 'Raghu: The one that says \"School Ahead, Go slow\"']\n"
     ]
    }
   ],
   "source": [
    "with open(\"funny.txt\", \"r\") as f:\n",
    "    lines = f.readlines()\n",
    "    print(lines)"
   ]
  },
  {
   "cell_type": "code",
   "execution_count": 12,
   "id": "9b18e321-d965-4c26-a775-15c2a5096459",
   "metadata": {},
   "outputs": [
    {
     "name": "stdout",
     "output_type": "stream",
     "text": [
      "Teacher: Why are you late, raghu?\n",
      "\n",
      "Raghu: Because of the sign\n",
      "\n",
      "Teacher: What sign?\n",
      "\n",
      "Raghu: The one that says \"School Ahead, Go slow\"\n"
     ]
    }
   ],
   "source": [
    "with open(\"funny.txt\", \"r\") as f:\n",
    "    lines = f.readlines()\n",
    "    for line in lines:\n",
    "        print(line)"
   ]
  },
  {
   "cell_type": "code",
   "execution_count": 13,
   "id": "08d7ba36-461e-4a62-bc5e-2c1165b90907",
   "metadata": {},
   "outputs": [],
   "source": [
    "# 2: Write files"
   ]
  },
  {
   "cell_type": "code",
   "execution_count": 35,
   "id": "d7e450ff-d6e0-4dd7-b6b5-3b3d57d7e956",
   "metadata": {},
   "outputs": [],
   "source": [
    "with open(\"pratice.txt\", \"w\") as f:\n",
    "    f.write(\"I love python\")"
   ]
  },
  {
   "cell_type": "code",
   "execution_count": 36,
   "id": "c641c5e5-07d1-4727-8acd-7d9545e3237a",
   "metadata": {},
   "outputs": [],
   "source": [
    "with open(\"pratice.txt\", \"a\") as f:\n",
    "    f.write(\"\\nI love javascript\")"
   ]
  },
  {
   "cell_type": "code",
   "execution_count": 37,
   "id": "31aae18c-0f16-45a2-8bde-bfada6f4f00e",
   "metadata": {},
   "outputs": [],
   "source": [
    "with open(\"pratice.txt\", \"w\") as f:\n",
    "    f.writelines([\"I love c++\\n\", \"I love machine learning\"])"
   ]
  },
  {
   "cell_type": "code",
   "execution_count": 23,
   "id": "40584144-dfcb-494f-b3ec-e00558d47f2a",
   "metadata": {},
   "outputs": [],
   "source": [
    "# 3: makeing a kind of dictionary for sports analytics:"
   ]
  },
  {
   "cell_type": "code",
   "execution_count": 24,
   "id": "32ca0a05-1264-493b-a0ee-d2170c9e6e1b",
   "metadata": {},
   "outputs": [
    {
     "data": {
      "text/plain": [
       "{'rohit': [9, 120, 105, 140, 130],\n",
       " 'shakib': [56, 78, 102, 72],\n",
       " 'babar': [56, 45, 120, 5, 67]}"
      ]
     },
     "execution_count": 24,
     "metadata": {},
     "output_type": "execute_result"
    }
   ],
   "source": [
    "player_scores = {}\n",
    "\n",
    "with open(\"scores.csv\", \"r\") as f:\n",
    "    for line in f:\n",
    "        player, _, score = line.split(\",\")\n",
    "        score = int(score.strip())\n",
    "\n",
    "        if player in player_scores:\n",
    "            player_scores[player].append(score)\n",
    "        else:\n",
    "            player_scores[player] = [score]\n",
    "\n",
    "player_scores"
   ]
  },
  {
   "cell_type": "code",
   "execution_count": 26,
   "id": "cc8fe383-7569-4ddf-9655-1f992c1ee3e0",
   "metadata": {},
   "outputs": [
    {
     "name": "stdout",
     "output_type": "stream",
     "text": [
      "rohit ==> Min:9, Max:140, Avg:100.8\n",
      "shakib ==> Min:56, Max:102, Avg:77.0\n",
      "babar ==> Min:5, Max:120, Avg:58.6\n"
     ]
    }
   ],
   "source": [
    "for player, score_list in player_scores.items():\n",
    "    min_score = min(score_list)\n",
    "    max_score = max(score_list)\n",
    "    avg_score = sum(score_list)/len(score_list)\n",
    "\n",
    "    print(f\"{player} ==> Min:{min_score}, Max:{max_score}, Avg:{avg_score}\")"
   ]
  },
  {
   "cell_type": "code",
   "execution_count": 27,
   "id": "05e0edea-ae54-41ed-a077-4c8d89449513",
   "metadata": {},
   "outputs": [],
   "source": [
    "# 4: File removing "
   ]
  },
  {
   "cell_type": "code",
   "execution_count": 30,
   "id": "694b46b6-0912-44a6-a1a3-16dd396c8668",
   "metadata": {},
   "outputs": [],
   "source": [
    "with open(\"dummy.txt\",\"w\") as f:\n",
    "    f.write(\"whatever\")"
   ]
  },
  {
   "cell_type": "code",
   "execution_count": 31,
   "id": "47f8f5e7-c3ff-4a8d-897f-70fb0b58439d",
   "metadata": {},
   "outputs": [],
   "source": [
    "import os\n",
    "\n",
    "if os.path.exists(\"dummy.txt\"):\n",
    "    os.remove(\"dummy.txt\")\n",
    "else:\n",
    "    print(\"file does not exist\")"
   ]
  },
  {
   "cell_type": "code",
   "execution_count": null,
   "id": "6e11def4-861d-4eca-b48e-507716898c38",
   "metadata": {},
   "outputs": [],
   "source": []
  }
 ],
 "metadata": {
  "kernelspec": {
   "display_name": "Python 3 (ipykernel)",
   "language": "python",
   "name": "python3"
  },
  "language_info": {
   "codemirror_mode": {
    "name": "ipython",
    "version": 3
   },
   "file_extension": ".py",
   "mimetype": "text/x-python",
   "name": "python",
   "nbconvert_exporter": "python",
   "pygments_lexer": "ipython3",
   "version": "3.12.2"
  }
 },
 "nbformat": 4,
 "nbformat_minor": 5
}
